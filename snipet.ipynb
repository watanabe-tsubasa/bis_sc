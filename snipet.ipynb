{
 "cells": [
  {
   "cell_type": "code",
   "execution_count": 3,
   "metadata": {},
   "outputs": [],
   "source": [
    "from module.bis_selenium import BisSelenium\n",
    "from selenium.webdriver.common.by import By\n",
    "from selenium.webdriver.support.ui import Select\n",
    "import polars as pl\n",
    "from bs4 import BeautifulSoup\n",
    "import lxml"
   ]
  },
  {
   "cell_type": "code",
   "execution_count": 2,
   "metadata": {},
   "outputs": [
    {
     "name": "stdout",
     "output_type": "stream",
     "text": [
      "0003_12000\n",
      "0004_13000\n",
      "switch_window:時間帯別売上速報(一覧)\n"
     ]
    }
   ],
   "source": [
    "import time\n",
    "import os\n",
    "from dotenv import load_dotenv; load_dotenv()\n",
    "\n",
    "driver_path = r'C:\\Users\\341137\\src\\driver\\chromedriver.exe'\n",
    "auth_id = os.environ.get('AUTH_ID')\n",
    "auth_pass = os.environ.get('AUTH_PASS')\n",
    "\n",
    "bis_selenium = BisSelenium(driver_path)\n",
    "bis_selenium.login(auth_id, auth_pass)\n",
    "bis_selenium.move_to_timesales()\n",
    "\n",
    "# element_selecter\n",
    "pattern_selecter = bis_selenium.find_element(By.CSS_SELECTOR, '#displayPatternSelect1')\n",
    "date_selecter = bis_selenium.find_element(By.CSS_SELECTOR, '#date')\n",
    "hour_selecter = bis_selenium.find_element(By.CSS_SELECTOR, '#hour')  \n",
    "report_viewer = bis_selenium.find_element(By.CSS_SELECTOR, '#viewJikanichiran')\n",
    "\n",
    "# 条件選択部分\n",
    "bis_selenium.find_elements(By.CSS_SELECTOR, '#kaishaCodeRadio')[2].click()\n",
    "Select(pattern_selecter).select_by_value('7')\n",
    "\n",
    "# 組織選択\n",
    "org_list = ['0003_12000', '0004_13000']\n",
    "bis_selenium.select_orgs(*org_list)\n",
    "\n",
    "# 商品分類選択\n",
    "product_list = ['[211]グロサリー', '[214]リカー', '[221]デイリーフーズ']\n",
    "bis_selenium.select_products(*product_list)\n",
    "\n",
    "# 日付選択\n",
    "bis_selenium.input_without_JS(date_selecter, '2023/07/30')\n",
    "Select(hour_selecter).select_by_value('10')\n",
    "\n",
    "# 画面遷移\n",
    "report_viewer.click()\n",
    "bis_selenium.move_to_new_window()\n",
    "first_frame = bis_selenium.find_element(By.CSS_SELECTOR, '#Dottom')\n",
    "bis_selenium.switch_to.frame(first_frame)\n",
    "\n",
    "# first_fetch\n",
    "time_selector = bis_selenium.find_element(By.CSS_SELECTOR, '#TIME_SELECT')\n",
    "bottom_frame = bis_selenium.find_element(By.CSS_SELECTOR, '#bottomFrame')\n",
    "bis_selenium.switch_to.frame(bottom_frame)\n",
    "html = bis_selenium.page_source.encode('utf-8')\n",
    "\n",
    "bis_selenium.quit()"
   ]
  },
  {
   "cell_type": "code",
   "execution_count": null,
   "metadata": {},
   "outputs": [],
   "source": [
    "soup = BeautifulSoup(html, 'lxml')\n",
    "table = soup.find('tbody')\n",
    "header_base = table.find('tr').find_all('td')\n",
    "headers = [header.get_text().replace('\\n', '').replace(' ', '') for header in header_base]\n",
    "rows_base = table.find_all('tr')[1:]\n",
    "body = []\n",
    "for row_base in rows_base:\n",
    "  row = []\n",
    "  for row_elem in row_base.find_all('td'):\n",
    "    row.append(row_elem.get_text().replace('\\n', '').replace(' ', '') )\n",
    "  body.append(row)\n",
    "  \n",
    "df = pl.DataFrame(data=body, schema=headers)\n",
    "selected_cols = [col for col in df.columns if '売上高' in col and '前日' not in col]\n",
    "df_selected = df.select(selected_cols)\n",
    "for col in df_selected.columns:\n",
    "  df_selected = (df_selected\n",
    "                 .with_columns(\n",
    "                   pl.col(col)\n",
    "                   .str.replace(\" \", \"0\")\n",
    "                   .str.replace(\"\\xa0\", \"0\")\n",
    "                   .str.replace(\",\", \"\")\n",
    "                   .cast(pl.Float64)\n",
    "                   )\n",
    "                 )\n",
    "base_cols = ['店舗CD', '店舗', 'グループCD', 'グループ']\n",
    "df_base = df.select(base_cols)\n",
    "df_concat = pl.concat([df_base, df_selected], how='horizontal')"
   ]
  },
  {
   "cell_type": "code",
   "execution_count": 123,
   "metadata": {},
   "outputs": [],
   "source": [
    "for i in range(2):\n",
    "  df_concat.write_csv(f'{str(i)}.csv')"
   ]
  },
  {
   "cell_type": "code",
   "execution_count": null,
   "metadata": {},
   "outputs": [],
   "source": []
  }
 ],
 "metadata": {
  "kernelspec": {
   "display_name": "scrape",
   "language": "python",
   "name": "python3"
  },
  "language_info": {
   "codemirror_mode": {
    "name": "ipython",
    "version": 3
   },
   "file_extension": ".py",
   "mimetype": "text/x-python",
   "name": "python",
   "nbconvert_exporter": "python",
   "pygments_lexer": "ipython3",
   "version": "3.11.0"
  },
  "orig_nbformat": 4
 },
 "nbformat": 4,
 "nbformat_minor": 2
}
