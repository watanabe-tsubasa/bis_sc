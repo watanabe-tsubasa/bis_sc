{
 "cells": [
  {
   "cell_type": "code",
   "execution_count": 1,
   "id": "c6cb2e5b-0cf2-4b70-a6cb-b8d1433c0c8f",
   "metadata": {},
   "outputs": [
    {
     "name": "stderr",
     "output_type": "stream",
     "text": [
      "���: �^����ꂽ�p�^�[���̃t�@�C����������܂���ł����B\n"
     ]
    }
   ],
   "source": [
    "!where pip"
   ]
  },
  {
   "cell_type": "code",
   "execution_count": 2,
   "id": "05decda3-1b92-43f4-ab16-c3153b700f4a",
   "metadata": {},
   "outputs": [
    {
     "name": "stdout",
     "output_type": "stream",
     "text": [
      "C:\\Windows\\py.exe\n"
     ]
    }
   ],
   "source": [
    "!where py"
   ]
  },
  {
   "cell_type": "code",
   "execution_count": null,
   "id": "24d6bb66-797a-4a5c-ad42-7480ef43561e",
   "metadata": {},
   "outputs": [],
   "source": []
  }
 ],
 "metadata": {
  "kernelspec": {
   "display_name": "scraping",
   "language": "python",
   "name": "scraping"
  },
  "language_info": {
   "codemirror_mode": {
    "name": "ipython",
    "version": 3
   },
   "file_extension": ".py",
   "mimetype": "text/x-python",
   "name": "python",
   "nbconvert_exporter": "python",
   "pygments_lexer": "ipython3",
   "version": "3.9.13"
  }
 },
 "nbformat": 4,
 "nbformat_minor": 5
}
